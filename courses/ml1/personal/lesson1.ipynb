{
 "cells": [
  {
   "cell_type": "code",
   "execution_count": 1,
   "id": "335805b4",
   "metadata": {},
   "outputs": [],
   "source": [
    "%load_ext autoreload\n",
    "%autoreload 2\n",
    "%matplotlib inline"
   ]
  },
  {
   "cell_type": "code",
   "execution_count": 2,
   "id": "50a00725",
   "metadata": {},
   "outputs": [],
   "source": [
    "from fastai.imports import *\n",
    "from fastai.structured import *\n",
    "\n",
    "from pandas_summary import DataFrameSummary\n",
    "from sklearn.ensemble import RandomForestRegressor\n",
    "from IPython.display import display\n",
    "\n",
    "from sklearn import metrics\n",
    "import warnings"
   ]
  },
  {
   "cell_type": "code",
   "execution_count": 3,
   "id": "0018f045",
   "metadata": {},
   "outputs": [],
   "source": [
    "PATH = \"../data/bulldozers/\""
   ]
  },
  {
   "cell_type": "code",
   "execution_count": 4,
   "id": "589f394f",
   "metadata": {},
   "outputs": [],
   "source": [
    "warnings.filterwarnings('ignore')"
   ]
  },
  {
   "cell_type": "code",
   "execution_count": null,
   "id": "0091f704",
   "metadata": {},
   "outputs": [],
   "source": [
    "df_raw = pd.read_csv(f'{PATH}/train.csv', low_memory=False)"
   ]
  },
  {
   "cell_type": "code",
   "execution_count": null,
   "id": "9769c3d8",
   "metadata": {},
   "outputs": [],
   "source": [
    "df_raw.UsageBand"
   ]
  },
  {
   "cell_type": "code",
   "execution_count": 5,
   "id": "a557d0b5",
   "metadata": {},
   "outputs": [],
   "source": [
    "df_raw = pd.read_csv(f'{PATH}/Train.csv', low_memory=False, parse_dates=['saledate'])"
   ]
  },
  {
   "cell_type": "code",
   "execution_count": null,
   "id": "5498c7d2",
   "metadata": {},
   "outputs": [],
   "source": [
    "df_raw.saledate"
   ]
  },
  {
   "cell_type": "code",
   "execution_count": 6,
   "id": "57e077a1",
   "metadata": {},
   "outputs": [],
   "source": [
    "def display_all(df):\n",
    "    with pd.option_context(\"display.max_rows\", 1000, \"display.max_columns\", 1000): \n",
    "        display(df)"
   ]
  },
  {
   "cell_type": "code",
   "execution_count": null,
   "id": "a9429928",
   "metadata": {},
   "outputs": [],
   "source": [
    "display_all(df_raw.head().T)"
   ]
  },
  {
   "cell_type": "code",
   "execution_count": 7,
   "id": "aa113a5e",
   "metadata": {},
   "outputs": [],
   "source": [
    "df_raw.SalePrice = np.log(df_raw.SalePrice)"
   ]
  },
  {
   "cell_type": "code",
   "execution_count": null,
   "id": "eebacaf5",
   "metadata": {},
   "outputs": [],
   "source": [
    "m = RandomForestRegressor(n_jobs=-1)\n",
    "# The following code is supposed to fail due to string values in the input data\n",
    "m.fit(df_raw.drop('SalePrice', axis=1), df_raw.SalePrice)"
   ]
  },
  {
   "cell_type": "code",
   "execution_count": null,
   "id": "ff8728d5",
   "metadata": {},
   "outputs": [],
   "source": [
    "df_raw.saledate"
   ]
  },
  {
   "cell_type": "code",
   "execution_count": 8,
   "id": "222d6e6c",
   "metadata": {},
   "outputs": [
    {
     "data": {
      "text/plain": [
       "0    2006\n",
       "1    2004\n",
       "2    2004\n",
       "3    2011\n",
       "4    2009\n",
       "Name: saleYear, dtype: int64"
      ]
     },
     "execution_count": 8,
     "metadata": {},
     "output_type": "execute_result"
    }
   ],
   "source": [
    "add_datepart(df_raw, 'saledate')\n",
    "df_raw.saleYear.head()"
   ]
  },
  {
   "cell_type": "code",
   "execution_count": null,
   "id": "4da278f5",
   "metadata": {},
   "outputs": [],
   "source": [
    "df_raw.head()"
   ]
  },
  {
   "cell_type": "code",
   "execution_count": 9,
   "id": "8ff4765f",
   "metadata": {},
   "outputs": [],
   "source": [
    "train_cats(df_raw)"
   ]
  },
  {
   "cell_type": "code",
   "execution_count": null,
   "id": "79eba11b",
   "metadata": {},
   "outputs": [],
   "source": [
    "df_raw.UsageBand.cat.categories"
   ]
  },
  {
   "cell_type": "code",
   "execution_count": 10,
   "id": "61a36962",
   "metadata": {},
   "outputs": [],
   "source": [
    "df_raw.UsageBand.cat.set_categories(['High', 'Medium', 'Low'], ordered=True, inplace=True)"
   ]
  },
  {
   "cell_type": "code",
   "execution_count": null,
   "id": "a641587e",
   "metadata": {},
   "outputs": [],
   "source": [
    "display_all(df_raw.isnull().sum().sort_index()/len(df_raw))"
   ]
  },
  {
   "cell_type": "code",
   "execution_count": 11,
   "id": "c7428730",
   "metadata": {},
   "outputs": [],
   "source": [
    "os.makedirs('tmp', exist_ok=True)\n",
    "df_raw.to_feather('tmp/bulldozers-raw')"
   ]
  },
  {
   "cell_type": "code",
   "execution_count": 12,
   "id": "8df559a5",
   "metadata": {},
   "outputs": [],
   "source": [
    "df_raw = pd.read_feather('tmp/bulldozers-raw')"
   ]
  },
  {
   "cell_type": "code",
   "execution_count": 13,
   "id": "10a16443",
   "metadata": {},
   "outputs": [],
   "source": [
    "df, y, nas = proc_df(df_raw, 'SalePrice')"
   ]
  },
  {
   "cell_type": "code",
   "execution_count": null,
   "id": "28e88b61",
   "metadata": {},
   "outputs": [],
   "source": [
    "df.columns"
   ]
  },
  {
   "cell_type": "code",
   "execution_count": null,
   "id": "4647fce3",
   "metadata": {},
   "outputs": [],
   "source": [
    "display_all(df.head())"
   ]
  },
  {
   "cell_type": "code",
   "execution_count": 15,
   "id": "bf16fac3",
   "metadata": {},
   "outputs": [
    {
     "name": "stdout",
     "output_type": "stream",
     "text": [
      "CPU times: user 1min 13s, sys: 123 ms, total: 1min 13s\n",
      "Wall time: 8.96 s\n"
     ]
    },
    {
     "data": {
      "text/plain": [
       "0.9830564531522613"
      ]
     },
     "execution_count": 15,
     "metadata": {},
     "output_type": "execute_result"
    }
   ],
   "source": [
    "m = RandomForestRegressor(n_jobs=-1)\n",
    "%time m.fit(df, y)\n",
    "m.score(df,y)"
   ]
  },
  {
   "cell_type": "code",
   "execution_count": 16,
   "id": "ea8ab8a3",
   "metadata": {},
   "outputs": [
    {
     "data": {
      "text/plain": [
       "((389125, 66), (389125,), (12000, 66))"
      ]
     },
     "execution_count": 16,
     "metadata": {},
     "output_type": "execute_result"
    }
   ],
   "source": [
    "def split_vals(a,n): return a[:n].copy(), a[n:].copy()\n",
    "\n",
    "n_valid = 12000  # same as Kaggle's test set size\n",
    "n_trn = len(df)-n_valid\n",
    "raw_train, raw_valid = split_vals(df_raw, n_trn)\n",
    "X_train, X_valid = split_vals(df, n_trn)\n",
    "y_train, y_valid = split_vals(y, n_trn)\n",
    "\n",
    "X_train.shape, y_train.shape, X_valid.shape"
   ]
  },
  {
   "cell_type": "code",
   "execution_count": 17,
   "id": "d07ad2b2",
   "metadata": {},
   "outputs": [],
   "source": [
    "def rmse(x,y): return math.sqrt(((x-y)**2).mean())\n",
    "\n",
    "def print_score(m):\n",
    "    res = [rmse(m.predict(X_train), y_train), rmse(m.predict(X_valid), y_valid),\n",
    "                m.score(X_train, y_train), m.score(X_valid, y_valid)]\n",
    "    if hasattr(m, 'oob_score_'): res.append(m.oob_score_)\n",
    "    print(res)"
   ]
  },
  {
   "cell_type": "code",
   "execution_count": 18,
   "id": "cd4a29cc",
   "metadata": {},
   "outputs": [
    {
     "name": "stdout",
     "output_type": "stream",
     "text": [
      "CPU times: user 1min 11s, sys: 126 ms, total: 1min 11s\n",
      "Wall time: 8.64 s\n",
      "[0.09046125029917888, 0.24606442438914441, 0.9828974842877578, 0.8918701423554928]\n"
     ]
    }
   ],
   "source": [
    "m = RandomForestRegressor(n_jobs=-1)\n",
    "%time m.fit(X_train, y_train)\n",
    "print_score(m)"
   ]
  },
  {
   "cell_type": "code",
   "execution_count": 19,
   "id": "0625426f",
   "metadata": {},
   "outputs": [],
   "source": [
    "df_trn, y_trn, nas = proc_df(df_raw, 'SalePrice', subset=30000, na_dict=nas)\n",
    "X_train, _ = split_vals(df_trn, 20000)\n",
    "y_train, _ = split_vals(y_trn, 20000)"
   ]
  },
  {
   "cell_type": "code",
   "execution_count": 20,
   "id": "79ce54cf",
   "metadata": {},
   "outputs": [
    {
     "name": "stdout",
     "output_type": "stream",
     "text": [
      "CPU times: user 2.72 s, sys: 2.03 ms, total: 2.73 s\n",
      "Wall time: 353 ms\n",
      "[0.11133842647485324, 0.3534743518297632, 0.9729183413492297, 0.7768670087192073]\n"
     ]
    }
   ],
   "source": [
    "m = RandomForestRegressor(n_jobs=-1)\n",
    "%time m.fit(X_train, y_train)\n",
    "print_score(m)"
   ]
  },
  {
   "cell_type": "code",
   "execution_count": 21,
   "id": "7474bcfb",
   "metadata": {},
   "outputs": [
    {
     "name": "stdout",
     "output_type": "stream",
     "text": [
      "[0.5249387423925456, 0.5813729295177376, 0.3979918729109103, 0.3963883883773268]\n"
     ]
    }
   ],
   "source": [
    "m = RandomForestRegressor(n_estimators=1, max_depth=3, bootstrap=False, n_jobs=-1)\n",
    "m.fit(X_train, y_train)\n",
    "print_score(m)"
   ]
  },
  {
   "cell_type": "code",
   "execution_count": 22,
   "id": "eb395967",
   "metadata": {},
   "outputs": [
    {
     "data": {
      "image/svg+xml": [
       "<?xml version=\"1.0\" encoding=\"UTF-8\" standalone=\"no\"?>\n",
       "<!DOCTYPE svg PUBLIC \"-//W3C//DTD SVG 1.1//EN\"\n",
       " \"http://www.w3.org/Graphics/SVG/1.1/DTD/svg11.dtd\">\n",
       "<!-- Generated by graphviz version 2.42.3 (20191010.1750)\n",
       " -->\n",
       "<!-- Title: Tree Pages: 1 -->\n",
       "<svg width=\"720pt\" height=\"434pt\"\n",
       " viewBox=\"0.00 0.00 720.00 434.49\" xmlns=\"http://www.w3.org/2000/svg\" xmlns:xlink=\"http://www.w3.org/1999/xlink\">\n",
       "<g id=\"graph0\" class=\"graph\" transform=\"scale(1.28 1.28) rotate(0) translate(4 554)\">\n",
       "<title>Tree</title>\n",
       "<polygon fill=\"white\" stroke=\"transparent\" points=\"-4,4 -4,-554 920.67,-554 920.67,4 -4,4\"/>\n",
       "<!-- 0 -->\n",
       "<g id=\"node1\" class=\"node\">\n",
       "<title>0</title>\n",
       "<polygon fill=\"#eca26d\" stroke=\"black\" points=\"192.67,-336.5 14.67,-336.5 14.67,-268.5 192.67,-268.5 192.67,-336.5\"/>\n",
       "<text text-anchor=\"start\" x=\"22.67\" y=\"-321.3\" font-family=\"Times,serif\" font-size=\"14.00\">Coupler_System ≤ 0.5</text>\n",
       "<text text-anchor=\"start\" x=\"58.17\" y=\"-306.3\" font-family=\"Times,serif\" font-size=\"14.00\">mse = 0.458</text>\n",
       "<text text-anchor=\"start\" x=\"41.17\" y=\"-291.3\" font-family=\"Times,serif\" font-size=\"14.00\">samples = 20000</text>\n",
       "<text text-anchor=\"start\" x=\"49.17\" y=\"-276.3\" font-family=\"Times,serif\" font-size=\"14.00\">value = 10.127</text>\n",
       "</g>\n",
       "<!-- 1 -->\n",
       "<g id=\"node2\" class=\"node\">\n",
       "<title>1</title>\n",
       "<polygon fill=\"#ea9b63\" stroke=\"black\" points=\"420.67,-372.5 262.67,-372.5 262.67,-304.5 420.67,-304.5 420.67,-372.5\"/>\n",
       "<text text-anchor=\"start\" x=\"270.67\" y=\"-357.3\" font-family=\"Times,serif\" font-size=\"14.00\">YearMade ≤ 1987.5</text>\n",
       "<text text-anchor=\"start\" x=\"296.17\" y=\"-342.3\" font-family=\"Times,serif\" font-size=\"14.00\">mse = 0.403</text>\n",
       "<text text-anchor=\"start\" x=\"279.17\" y=\"-327.3\" font-family=\"Times,serif\" font-size=\"14.00\">samples = 18312</text>\n",
       "<text text-anchor=\"start\" x=\"287.17\" y=\"-312.3\" font-family=\"Times,serif\" font-size=\"14.00\">value = 10.212</text>\n",
       "</g>\n",
       "<!-- 0&#45;&gt;1 -->\n",
       "<g id=\"edge1\" class=\"edge\">\n",
       "<title>0&#45;&gt;1</title>\n",
       "<path fill=\"none\" stroke=\"black\" d=\"M192.88,-315.96C212.39,-318.93 233.06,-322.09 252.57,-325.06\"/>\n",
       "<polygon fill=\"black\" stroke=\"black\" points=\"252.24,-328.55 262.65,-326.6 253.29,-321.63 252.24,-328.55\"/>\n",
       "<text text-anchor=\"middle\" x=\"242.51\" y=\"-337.71\" font-family=\"Times,serif\" font-size=\"14.00\">True</text>\n",
       "</g>\n",
       "<!-- 8 -->\n",
       "<g id=\"node9\" class=\"node\">\n",
       "<title>8</title>\n",
       "<polygon fill=\"#fbece1\" stroke=\"black\" points=\"420.67,-245.5 262.67,-245.5 262.67,-177.5 420.67,-177.5 420.67,-245.5\"/>\n",
       "<text text-anchor=\"start\" x=\"270.67\" y=\"-230.3\" font-family=\"Times,serif\" font-size=\"14.00\">YearMade ≤ 1998.5</text>\n",
       "<text text-anchor=\"start\" x=\"296.17\" y=\"-215.3\" font-family=\"Times,serif\" font-size=\"14.00\">mse = 0.117</text>\n",
       "<text text-anchor=\"start\" x=\"283.67\" y=\"-200.3\" font-family=\"Times,serif\" font-size=\"14.00\">samples = 1688</text>\n",
       "<text text-anchor=\"start\" x=\"291.67\" y=\"-185.3\" font-family=\"Times,serif\" font-size=\"14.00\">value = 9.201</text>\n",
       "</g>\n",
       "<!-- 0&#45;&gt;8 -->\n",
       "<g id=\"edge8\" class=\"edge\">\n",
       "<title>0&#45;&gt;8</title>\n",
       "<path fill=\"none\" stroke=\"black\" d=\"M192.88,-268.49C212.57,-260.89 233.44,-252.84 253.11,-245.26\"/>\n",
       "<polygon fill=\"black\" stroke=\"black\" points=\"254.58,-248.45 262.65,-241.58 252.06,-241.91 254.58,-248.45\"/>\n",
       "<text text-anchor=\"middle\" x=\"239.8\" y=\"-227.75\" font-family=\"Times,serif\" font-size=\"14.00\">False</text>\n",
       "</g>\n",
       "<!-- 2 -->\n",
       "<g id=\"node3\" class=\"node\">\n",
       "<title>2</title>\n",
       "<polygon fill=\"#efb286\" stroke=\"black\" points=\"673.17,-486.5 524.17,-486.5 524.17,-418.5 673.17,-418.5 673.17,-486.5\"/>\n",
       "<text text-anchor=\"start\" x=\"532.17\" y=\"-471.3\" font-family=\"Times,serif\" font-size=\"14.00\">ModelID ≤ 4506.5</text>\n",
       "<text text-anchor=\"start\" x=\"553.17\" y=\"-456.3\" font-family=\"Times,serif\" font-size=\"14.00\">mse = 0.354</text>\n",
       "<text text-anchor=\"start\" x=\"540.67\" y=\"-441.3\" font-family=\"Times,serif\" font-size=\"14.00\">samples = 6802</text>\n",
       "<text text-anchor=\"start\" x=\"548.67\" y=\"-426.3\" font-family=\"Times,serif\" font-size=\"14.00\">value = 9.925</text>\n",
       "</g>\n",
       "<!-- 1&#45;&gt;2 -->\n",
       "<g id=\"edge2\" class=\"edge\">\n",
       "<title>1&#45;&gt;2</title>\n",
       "<path fill=\"none\" stroke=\"black\" d=\"M418.83,-372.55C449.02,-386.05 483.82,-401.6 514.65,-415.39\"/>\n",
       "<polygon fill=\"black\" stroke=\"black\" points=\"513.53,-418.72 524.09,-419.61 516.39,-412.33 513.53,-418.72\"/>\n",
       "</g>\n",
       "<!-- 5 -->\n",
       "<g id=\"node6\" class=\"node\">\n",
       "<title>5</title>\n",
       "<polygon fill=\"#e88e4d\" stroke=\"black\" points=\"699.17,-372.5 498.17,-372.5 498.17,-304.5 699.17,-304.5 699.17,-372.5\"/>\n",
       "<text text-anchor=\"start\" x=\"506.17\" y=\"-357.3\" font-family=\"Times,serif\" font-size=\"14.00\">fiProductClassDesc ≤ 7.5</text>\n",
       "<text text-anchor=\"start\" x=\"553.17\" y=\"-342.3\" font-family=\"Times,serif\" font-size=\"14.00\">mse = 0.354</text>\n",
       "<text text-anchor=\"start\" x=\"536.17\" y=\"-327.3\" font-family=\"Times,serif\" font-size=\"14.00\">samples = 11510</text>\n",
       "<text text-anchor=\"start\" x=\"544.17\" y=\"-312.3\" font-family=\"Times,serif\" font-size=\"14.00\">value = 10.381</text>\n",
       "</g>\n",
       "<!-- 1&#45;&gt;5 -->\n",
       "<g id=\"edge5\" class=\"edge\">\n",
       "<title>1&#45;&gt;5</title>\n",
       "<path fill=\"none\" stroke=\"black\" d=\"M420.91,-338.5C441.98,-338.5 465.18,-338.5 487.64,-338.5\"/>\n",
       "<polygon fill=\"black\" stroke=\"black\" points=\"487.9,-342 497.9,-338.5 487.9,-335 487.9,-342\"/>\n",
       "</g>\n",
       "<!-- 3 -->\n",
       "<g id=\"node4\" class=\"node\">\n",
       "<title>3</title>\n",
       "<polygon fill=\"#eba06a\" stroke=\"black\" points=\"905.67,-550 773.67,-550 773.67,-497 905.67,-497 905.67,-550\"/>\n",
       "<text text-anchor=\"start\" x=\"794.17\" y=\"-534.8\" font-family=\"Times,serif\" font-size=\"14.00\">mse = 0.381</text>\n",
       "<text text-anchor=\"start\" x=\"781.67\" y=\"-519.8\" font-family=\"Times,serif\" font-size=\"14.00\">samples = 3397</text>\n",
       "<text text-anchor=\"start\" x=\"785.17\" y=\"-504.8\" font-family=\"Times,serif\" font-size=\"14.00\">value = 10.153</text>\n",
       "</g>\n",
       "<!-- 2&#45;&gt;3 -->\n",
       "<g id=\"edge3\" class=\"edge\">\n",
       "<title>2&#45;&gt;3</title>\n",
       "<path fill=\"none\" stroke=\"black\" d=\"M673.32,-474.38C702.04,-482.91 734.91,-492.68 763.74,-501.24\"/>\n",
       "<polygon fill=\"black\" stroke=\"black\" points=\"762.77,-504.6 773.35,-504.1 764.76,-497.89 762.77,-504.6\"/>\n",
       "</g>\n",
       "<!-- 4 -->\n",
       "<g id=\"node5\" class=\"node\">\n",
       "<title>4</title>\n",
       "<polygon fill=\"#f3c4a3\" stroke=\"black\" points=\"905.67,-479 773.67,-479 773.67,-426 905.67,-426 905.67,-479\"/>\n",
       "<text text-anchor=\"start\" x=\"794.17\" y=\"-463.8\" font-family=\"Times,serif\" font-size=\"14.00\">mse = 0.224</text>\n",
       "<text text-anchor=\"start\" x=\"781.67\" y=\"-448.8\" font-family=\"Times,serif\" font-size=\"14.00\">samples = 3405</text>\n",
       "<text text-anchor=\"start\" x=\"789.67\" y=\"-433.8\" font-family=\"Times,serif\" font-size=\"14.00\">value = 9.698</text>\n",
       "</g>\n",
       "<!-- 2&#45;&gt;4 -->\n",
       "<g id=\"edge4\" class=\"edge\">\n",
       "<title>2&#45;&gt;4</title>\n",
       "<path fill=\"none\" stroke=\"black\" d=\"M673.32,-452.5C701.79,-452.5 734.34,-452.5 762.99,-452.5\"/>\n",
       "<polygon fill=\"black\" stroke=\"black\" points=\"763.35,-456 773.35,-452.5 763.35,-449 763.35,-456\"/>\n",
       "</g>\n",
       "<!-- 6 -->\n",
       "<g id=\"node7\" class=\"node\">\n",
       "<title>6</title>\n",
       "<polygon fill=\"#eeae80\" stroke=\"black\" points=\"905.67,-408 773.67,-408 773.67,-355 905.67,-355 905.67,-408\"/>\n",
       "<text text-anchor=\"start\" x=\"794.17\" y=\"-392.8\" font-family=\"Times,serif\" font-size=\"14.00\">mse = 0.116</text>\n",
       "<text text-anchor=\"start\" x=\"781.67\" y=\"-377.8\" font-family=\"Times,serif\" font-size=\"14.00\">samples = 3316</text>\n",
       "<text text-anchor=\"start\" x=\"789.67\" y=\"-362.8\" font-family=\"Times,serif\" font-size=\"14.00\">value = 9.979</text>\n",
       "</g>\n",
       "<!-- 5&#45;&gt;6 -->\n",
       "<g id=\"edge6\" class=\"edge\">\n",
       "<title>5&#45;&gt;6</title>\n",
       "<path fill=\"none\" stroke=\"black\" d=\"M699.29,-356.42C720.87,-360.31 743.33,-364.35 763.76,-368.02\"/>\n",
       "<polygon fill=\"black\" stroke=\"black\" points=\"763.16,-371.47 773.62,-369.8 764.4,-364.58 763.16,-371.47\"/>\n",
       "</g>\n",
       "<!-- 7 -->\n",
       "<g id=\"node8\" class=\"node\">\n",
       "<title>7</title>\n",
       "<polygon fill=\"#e58139\" stroke=\"black\" points=\"905.67,-337 773.67,-337 773.67,-284 905.67,-284 905.67,-337\"/>\n",
       "<text text-anchor=\"start\" x=\"794.17\" y=\"-321.8\" font-family=\"Times,serif\" font-size=\"14.00\">mse = 0.359</text>\n",
       "<text text-anchor=\"start\" x=\"781.67\" y=\"-306.8\" font-family=\"Times,serif\" font-size=\"14.00\">samples = 8194</text>\n",
       "<text text-anchor=\"start\" x=\"785.17\" y=\"-291.8\" font-family=\"Times,serif\" font-size=\"14.00\">value = 10.544</text>\n",
       "</g>\n",
       "<!-- 5&#45;&gt;7 -->\n",
       "<g id=\"edge7\" class=\"edge\">\n",
       "<title>5&#45;&gt;7</title>\n",
       "<path fill=\"none\" stroke=\"black\" d=\"M699.29,-326.83C720.77,-324.31 743.13,-321.69 763.48,-319.31\"/>\n",
       "<polygon fill=\"black\" stroke=\"black\" points=\"764.09,-322.76 773.62,-318.12 763.28,-315.81 764.09,-322.76\"/>\n",
       "</g>\n",
       "<!-- 9 -->\n",
       "<g id=\"node10\" class=\"node\">\n",
       "<title>9</title>\n",
       "<polygon fill=\"#fef9f6\" stroke=\"black\" points=\"703.67,-245.5 493.67,-245.5 493.67,-177.5 703.67,-177.5 703.67,-245.5\"/>\n",
       "<text text-anchor=\"start\" x=\"501.67\" y=\"-230.3\" font-family=\"Times,serif\" font-size=\"14.00\">fiProductClassDesc ≤ 39.5</text>\n",
       "<text text-anchor=\"start\" x=\"553.17\" y=\"-215.3\" font-family=\"Times,serif\" font-size=\"14.00\">mse = 0.087</text>\n",
       "<text text-anchor=\"start\" x=\"545.17\" y=\"-200.3\" font-family=\"Times,serif\" font-size=\"14.00\">samples = 904</text>\n",
       "<text text-anchor=\"start\" x=\"548.67\" y=\"-185.3\" font-family=\"Times,serif\" font-size=\"14.00\">value = 9.037</text>\n",
       "</g>\n",
       "<!-- 8&#45;&gt;9 -->\n",
       "<g id=\"edge9\" class=\"edge\">\n",
       "<title>8&#45;&gt;9</title>\n",
       "<path fill=\"none\" stroke=\"black\" d=\"M420.91,-211.5C440.54,-211.5 462,-211.5 483,-211.5\"/>\n",
       "<polygon fill=\"black\" stroke=\"black\" points=\"483.26,-215 493.26,-211.5 483.26,-208 483.26,-215\"/>\n",
       "</g>\n",
       "<!-- 12 -->\n",
       "<g id=\"node13\" class=\"node\">\n",
       "<title>12</title>\n",
       "<polygon fill=\"#f8ddc9\" stroke=\"black\" points=\"690.67,-131.5 506.67,-131.5 506.67,-63.5 690.67,-63.5 690.67,-131.5\"/>\n",
       "<text text-anchor=\"start\" x=\"514.67\" y=\"-116.3\" font-family=\"Times,serif\" font-size=\"14.00\">MachineID ≤ 998959.0</text>\n",
       "<text text-anchor=\"start\" x=\"553.17\" y=\"-101.3\" font-family=\"Times,serif\" font-size=\"14.00\">mse = 0.085</text>\n",
       "<text text-anchor=\"start\" x=\"545.17\" y=\"-86.3\" font-family=\"Times,serif\" font-size=\"14.00\">samples = 784</text>\n",
       "<text text-anchor=\"start\" x=\"553.17\" y=\"-71.3\" font-family=\"Times,serif\" font-size=\"14.00\">value = 9.39</text>\n",
       "</g>\n",
       "<!-- 8&#45;&gt;12 -->\n",
       "<g id=\"edge12\" class=\"edge\">\n",
       "<title>8&#45;&gt;12</title>\n",
       "<path fill=\"none\" stroke=\"black\" d=\"M418.83,-177.45C448.22,-164.31 481.99,-149.22 512.2,-135.71\"/>\n",
       "<polygon fill=\"black\" stroke=\"black\" points=\"513.76,-138.85 521.46,-131.57 510.9,-132.46 513.76,-138.85\"/>\n",
       "</g>\n",
       "<!-- 10 -->\n",
       "<g id=\"node11\" class=\"node\">\n",
       "<title>10</title>\n",
       "<polygon fill=\"#ffffff\" stroke=\"black\" points=\"901.17,-266 778.17,-266 778.17,-213 901.17,-213 901.17,-266\"/>\n",
       "<text text-anchor=\"start\" x=\"794.17\" y=\"-250.8\" font-family=\"Times,serif\" font-size=\"14.00\">mse = 0.063</text>\n",
       "<text text-anchor=\"start\" x=\"786.17\" y=\"-235.8\" font-family=\"Times,serif\" font-size=\"14.00\">samples = 468</text>\n",
       "<text text-anchor=\"start\" x=\"789.67\" y=\"-220.8\" font-family=\"Times,serif\" font-size=\"14.00\">value = 8.961</text>\n",
       "</g>\n",
       "<!-- 9&#45;&gt;10 -->\n",
       "<g id=\"edge10\" class=\"edge\">\n",
       "<title>9&#45;&gt;10</title>\n",
       "<path fill=\"none\" stroke=\"black\" d=\"M703.8,-223.7C725.54,-226.25 747.96,-228.87 768.14,-231.24\"/>\n",
       "<polygon fill=\"black\" stroke=\"black\" points=\"767.82,-234.72 778.16,-232.41 768.63,-227.77 767.82,-234.72\"/>\n",
       "</g>\n",
       "<!-- 11 -->\n",
       "<g id=\"node12\" class=\"node\">\n",
       "<title>11</title>\n",
       "<polygon fill=\"#fcf3eb\" stroke=\"black\" points=\"901.17,-195 778.17,-195 778.17,-142 901.17,-142 901.17,-195\"/>\n",
       "<text text-anchor=\"start\" x=\"803.17\" y=\"-179.8\" font-family=\"Times,serif\" font-size=\"14.00\">mse = 0.1</text>\n",
       "<text text-anchor=\"start\" x=\"786.17\" y=\"-164.8\" font-family=\"Times,serif\" font-size=\"14.00\">samples = 436</text>\n",
       "<text text-anchor=\"start\" x=\"789.67\" y=\"-149.8\" font-family=\"Times,serif\" font-size=\"14.00\">value = 9.118</text>\n",
       "</g>\n",
       "<!-- 9&#45;&gt;11 -->\n",
       "<g id=\"edge11\" class=\"edge\">\n",
       "<title>9&#45;&gt;11</title>\n",
       "<path fill=\"none\" stroke=\"black\" d=\"M703.8,-192.76C725.54,-188.85 747.96,-184.82 768.14,-181.19\"/>\n",
       "<polygon fill=\"black\" stroke=\"black\" points=\"768.94,-184.6 778.16,-179.39 767.7,-177.71 768.94,-184.6\"/>\n",
       "</g>\n",
       "<!-- 13 -->\n",
       "<g id=\"node14\" class=\"node\">\n",
       "<title>13</title>\n",
       "<polygon fill=\"#f5ceb2\" stroke=\"black\" points=\"901.17,-124 778.17,-124 778.17,-71 901.17,-71 901.17,-124\"/>\n",
       "<text text-anchor=\"start\" x=\"798.67\" y=\"-108.8\" font-family=\"Times,serif\" font-size=\"14.00\">mse = 0.05</text>\n",
       "<text text-anchor=\"start\" x=\"786.17\" y=\"-93.8\" font-family=\"Times,serif\" font-size=\"14.00\">samples = 199</text>\n",
       "<text text-anchor=\"start\" x=\"789.67\" y=\"-78.8\" font-family=\"Times,serif\" font-size=\"14.00\">value = 9.574</text>\n",
       "</g>\n",
       "<!-- 12&#45;&gt;13 -->\n",
       "<g id=\"edge13\" class=\"edge\">\n",
       "<title>12&#45;&gt;13</title>\n",
       "<path fill=\"none\" stroke=\"black\" d=\"M690.7,-97.5C716.21,-97.5 743.56,-97.5 767.72,-97.5\"/>\n",
       "<polygon fill=\"black\" stroke=\"black\" points=\"767.86,-101 777.86,-97.5 767.86,-94 767.86,-101\"/>\n",
       "</g>\n",
       "<!-- 14 -->\n",
       "<g id=\"node15\" class=\"node\">\n",
       "<title>14</title>\n",
       "<polygon fill=\"#f9e2d1\" stroke=\"black\" points=\"901.17,-53 778.17,-53 778.17,0 901.17,0 901.17,-53\"/>\n",
       "<text text-anchor=\"start\" x=\"794.17\" y=\"-37.8\" font-family=\"Times,serif\" font-size=\"14.00\">mse = 0.081</text>\n",
       "<text text-anchor=\"start\" x=\"786.17\" y=\"-22.8\" font-family=\"Times,serif\" font-size=\"14.00\">samples = 585</text>\n",
       "<text text-anchor=\"start\" x=\"789.67\" y=\"-7.8\" font-family=\"Times,serif\" font-size=\"14.00\">value = 9.327</text>\n",
       "</g>\n",
       "<!-- 12&#45;&gt;14 -->\n",
       "<g id=\"edge14\" class=\"edge\">\n",
       "<title>12&#45;&gt;14</title>\n",
       "<path fill=\"none\" stroke=\"black\" d=\"M690.7,-70.46C716.33,-62.84 743.8,-54.68 768.04,-47.48\"/>\n",
       "<polygon fill=\"black\" stroke=\"black\" points=\"769.27,-50.77 777.86,-44.56 767.28,-44.06 769.27,-50.77\"/>\n",
       "</g>\n",
       "</g>\n",
       "</svg>\n"
      ],
      "text/plain": [
       "<graphviz.files.Source at 0x7ff747f2ba20>"
      ]
     },
     "metadata": {},
     "output_type": "display_data"
    }
   ],
   "source": [
    "draw_tree(m.estimators_[0], df_trn, precision=3)"
   ]
  },
  {
   "cell_type": "code",
   "execution_count": 23,
   "id": "2459e4c9",
   "metadata": {},
   "outputs": [
    {
     "name": "stdout",
     "output_type": "stream",
     "text": [
      "[4.864753555590494e-17, 0.4777656710565097, 1.0, 0.5923590019281899]\n"
     ]
    }
   ],
   "source": [
    "m = RandomForestRegressor(n_estimators=1, bootstrap=False, n_jobs=-1)\n",
    "m.fit(X_train, y_train)\n",
    "print_score(m)"
   ]
  },
  {
   "cell_type": "code",
   "execution_count": 31,
   "id": "3bb3facb",
   "metadata": {},
   "outputs": [
    {
     "name": "stdout",
     "output_type": "stream",
     "text": [
      "[0.11317256482669817, 0.35663404615076794, 0.9720187302586947, 0.7728600239432845]\n"
     ]
    }
   ],
   "source": [
    "m = RandomForestRegressor(n_jobs=-1)\n",
    "m.fit(X_train, y_train)\n",
    "print_score(m)"
   ]
  },
  {
   "cell_type": "code",
   "execution_count": 25,
   "id": "f894de4a",
   "metadata": {},
   "outputs": [
    {
     "data": {
      "text/plain": [
       "(array([9.49175, 9.10498, 9.3501 , 9.39266, 9.39266, 9.25913, 9.15905, 9.68034, 9.45329, 8.9872 ]),\n",
       " 9.327116384582904,\n",
       " 9.104979856318357)"
      ]
     },
     "execution_count": 25,
     "metadata": {},
     "output_type": "execute_result"
    }
   ],
   "source": [
    "preds = np.stack([t.predict(X_valid) for t in m.estimators_])\n",
    "preds[:,0], np.mean(preds[:,0]), y_valid[0]"
   ]
  },
  {
   "cell_type": "code",
   "execution_count": 32,
   "id": "2a09d6cf",
   "metadata": {},
   "outputs": [
    {
     "data": {
      "text/plain": [
       "(10, 12000)"
      ]
     },
     "execution_count": 32,
     "metadata": {},
     "output_type": "execute_result"
    }
   ],
   "source": [
    "preds.shape"
   ]
  },
  {
   "cell_type": "code",
   "execution_count": 42,
   "id": "34990c41",
   "metadata": {},
   "outputs": [
    {
     "data": {
      "image/png": "[encoded data removed]",
      "text/plain": [
       "<Figure size 432x288 with 1 Axes>"
      ]
     },
     "metadata": {
      "needs_background": "light"
     },
     "output_type": "display_data"
    }
   ],
   "source": [
    "plt.plot([metrics.r2_score(y_valid, np.mean(preds[:i+1], axis=0)) for i in range(10)]);"
   ]
  },
  {
   "cell_type": "code",
   "execution_count": 34,
   "id": "0dacfbd7",
   "metadata": {},
   "outputs": [
    {
     "name": "stdout",
     "output_type": "stream",
     "text": [
      "[0.10218481347181708, 0.352802731846792, 0.9771882914455811, 0.777714132158377]\n"
     ]
    }
   ],
   "source": [
    "m = RandomForestRegressor(n_estimators=20, n_jobs=-1)\n",
    "m.fit(X_train, y_train)\n",
    "print_score(m)"
   ]
  },
  {
   "cell_type": "code",
   "execution_count": 41,
   "id": "32be574c",
   "metadata": {},
   "outputs": [
    {
     "name": "stdout",
     "output_type": "stream",
     "text": [
      "[0.09766482113930167, 0.342021867119443, 0.979161741584407, 0.7910916874972215]\n"
     ]
    }
   ],
   "source": [
    "m = RandomForestRegressor(n_estimators=40, n_jobs=-1)\n",
    "m.fit(X_train, y_train)\n",
    "print_score(m)"
   ]
  },
  {
   "cell_type": "code",
   "execution_count": 39,
   "id": "c08ea1de",
   "metadata": {},
   "outputs": [
    {
     "name": "stdout",
     "output_type": "stream",
     "text": [
      "[0.09337930684064327, 0.346621797651617, 0.9809503766609138, 0.7854345881776941]\n"
     ]
    }
   ],
   "source": [
    "m = RandomForestRegressor(n_estimators=100, n_jobs=-1)\n",
    "m.fit(X_train, y_train)\n",
    "print_score(m)"
   ]
  },
  {
   "cell_type": "code",
   "execution_count": 43,
   "id": "ce01cc70",
   "metadata": {},
   "outputs": [
    {
     "name": "stdout",
     "output_type": "stream",
     "text": [
      "[0.09778983461989355, 0.34903792743738354, 0.9791083604291964, 0.7824329033220269, 0.8520338723269395]\n"
     ]
    }
   ],
   "source": [
    "m = RandomForestRegressor(n_estimators=40, n_jobs=-1, oob_score=True)\n",
    "m.fit(X_train, y_train)\n",
    "print_score(m)"
   ]
  },
  {
   "cell_type": "code",
   "execution_count": 44,
   "id": "0fb8dfd5",
   "metadata": {},
   "outputs": [],
   "source": [
    "df_trn, y_trn, nas = proc_df(df_raw, 'SalePrice')\n",
    "X_train, X_valid = split_vals(df_trn, n_trn)\n",
    "y_train, y_valid = split_vals(y_trn, n_trn)"
   ]
  },
  {
   "cell_type": "code",
   "execution_count": 47,
   "id": "1404ab1d",
   "metadata": {},
   "outputs": [],
   "source": [
    "set_rf_samples(20000)"
   ]
  },
  {
   "cell_type": "code",
   "execution_count": 50,
   "id": "47f9e236",
   "metadata": {},
   "outputs": [],
   "source": [
    "reset_rf_samples()"
   ]
  },
  {
   "cell_type": "code",
   "execution_count": 48,
   "id": "1fc54c4d",
   "metadata": {},
   "outputs": [
    {
     "name": "stdout",
     "output_type": "stream",
     "text": [
      "CPU times: user 7.22 s, sys: 199 ms, total: 7.42 s\n",
      "Wall time: 2.49 s\n",
      "[0.24113762251379045, 0.2797292359221718, 0.8784752390462579, 0.8602590497664088, 0.8659102348796297]\n"
     ]
    }
   ],
   "source": [
    "m = RandomForestRegressor(n_jobs=-1, oob_score=True)\n",
    "%time m.fit(X_train, y_train)\n",
    "print_score(m)"
   ]
  },
  {
   "cell_type": "code",
   "execution_count": 51,
   "id": "bb2c6181",
   "metadata": {},
   "outputs": [
    {
     "name": "stdout",
     "output_type": "stream",
     "text": [
      "[0.0784634882496609, 0.23745850605203936, 0.9871332148435212, 0.899301399156414, 0.9083410050604052]\n"
     ]
    }
   ],
   "source": [
    "m = RandomForestRegressor(n_estimators=40, n_jobs=-1, oob_score=True)\n",
    "m.fit(X_train, y_train)\n",
    "print_score(m)"
   ]
  },
  {
   "cell_type": "code",
   "execution_count": 53,
   "id": "1880a3f0",
   "metadata": {},
   "outputs": [
    {
     "name": "stdout",
     "output_type": "stream",
     "text": [
      "[0.1409033999871904, 0.23439577099628486, 0.9585067195384015, 0.9018822642241264, 0.9067161878453959]\n"
     ]
    }
   ],
   "source": [
    "m = RandomForestRegressor(n_estimators=40, min_samples_leaf=5, n_jobs=-1, oob_score=True)\n",
    "m.fit(X_train, y_train)\n",
    "print_score(m)"
   ]
  },
  {
   "cell_type": "code",
   "execution_count": null,
   "id": "62f77a30",
   "metadata": {},
   "outputs": [],
   "source": []
  }
 ],
 "metadata": {
  "kernelspec": {
   "display_name": "Python 3 (ipykernel)",
   "language": "python",
   "name": "python3"
  },
  "language_info": {
   "codemirror_mode": {
    "name": "ipython",
    "version": 3
   },
   "file_extension": ".py",
   "mimetype": "text/x-python",
   "name": "python",
   "nbconvert_exporter": "python",
   "pygments_lexer": "ipython3",
   "version": "3.6.11"
  }
 },
 "nbformat": 4,
 "nbformat_minor": 5
}
