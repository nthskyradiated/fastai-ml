{
 "cells": [
  {
   "cell_type": "code",
   "execution_count": 1,
   "id": "335805b4",
   "metadata": {},
   "outputs": [],
   "source": [
    "%load_ext autoreload\n",
    "%autoreload 2\n",
    "%matplotlib inline"
   ]
  },
  {
   "cell_type": "code",
   "execution_count": 22,
   "id": "50a00725",
   "metadata": {},
   "outputs": [],
   "source": [
    "from fastai.imports import *\n",
    "from fastai.structured import *\n",
    "\n",
    "from pandas_summary import DataFrameSummary\n",
    "from sklearn.ensemble import RandomForestRegressor\n",
    "from IPython.display import display\n",
    "\n",
    "from sklearn import metrics\n",
    "import warnings"
   ]
  },
  {
   "cell_type": "code",
   "execution_count": 3,
   "id": "0018f045",
   "metadata": {},
   "outputs": [],
   "source": [
    "PATH = \"../data/bulldozers/\""
   ]
  },
  {
   "cell_type": "code",
   "execution_count": 23,
   "id": "589f394f",
   "metadata": {},
   "outputs": [],
   "source": [
    "warnings.filterwarnings('ignore')"
   ]
  },
  {
   "cell_type": "code",
   "execution_count": null,
   "id": "0091f704",
   "metadata": {},
   "outputs": [],
   "source": [
    "df_raw = pd.read_csv(f'{PATH}/train.csv', low_memory=False)"
   ]
  },
  {
   "cell_type": "code",
   "execution_count": null,
   "id": "9769c3d8",
   "metadata": {},
   "outputs": [],
   "source": [
    "df_raw.UsageBand"
   ]
  },
  {
   "cell_type": "code",
   "execution_count": 25,
   "id": "a557d0b5",
   "metadata": {},
   "outputs": [],
   "source": [
    "df_raw = pd.read_csv(f'{PATH}/train.csv', low_memory=False, parse_dates=['saledate'])"
   ]
  },
  {
   "cell_type": "code",
   "execution_count": null,
   "id": "5498c7d2",
   "metadata": {},
   "outputs": [],
   "source": [
    "df_raw.saledate"
   ]
  },
  {
   "cell_type": "code",
   "execution_count": 26,
   "id": "57e077a1",
   "metadata": {},
   "outputs": [],
   "source": [
    "def display_all(df):\n",
    "    with pd.option_context(\"display.max_rows\", 1000, \"display.max_columns\", 1000): \n",
    "        display(df)"
   ]
  },
  {
   "cell_type": "code",
   "execution_count": null,
   "id": "a9429928",
   "metadata": {},
   "outputs": [],
   "source": [
    "display_all(df_raw.head().T)"
   ]
  },
  {
   "cell_type": "code",
   "execution_count": 27,
   "id": "aa113a5e",
   "metadata": {},
   "outputs": [],
   "source": [
    "df_raw.SalePrice = np.log(df_raw.SalePrice)"
   ]
  },
  {
   "cell_type": "code",
   "execution_count": null,
   "id": "eebacaf5",
   "metadata": {},
   "outputs": [],
   "source": [
    "m = RandomForestRegressor(n_jobs=-1)\n",
    "# The following code is supposed to fail due to string values in the input data\n",
    "m.fit(df_raw.drop('SalePrice', axis=1), df_raw.SalePrice)"
   ]
  },
  {
   "cell_type": "code",
   "execution_count": null,
   "id": "ff8728d5",
   "metadata": {},
   "outputs": [],
   "source": [
    "df_raw.saledate"
   ]
  },
  {
   "cell_type": "code",
   "execution_count": 28,
   "id": "222d6e6c",
   "metadata": {},
   "outputs": [
    {
     "data": {
      "text/plain": [
       "0    2006\n",
       "1    2004\n",
       "2    2004\n",
       "3    2011\n",
       "4    2009\n",
       "Name: saleYear, dtype: int64"
      ]
     },
     "execution_count": 28,
     "metadata": {},
     "output_type": "execute_result"
    }
   ],
   "source": [
    "add_datepart(df_raw, 'saledate')\n",
    "df_raw.saleYear.head()"
   ]
  },
  {
   "cell_type": "code",
   "execution_count": null,
   "id": "4da278f5",
   "metadata": {},
   "outputs": [],
   "source": [
    "df_raw.head()"
   ]
  },
  {
   "cell_type": "code",
   "execution_count": 29,
   "id": "8ff4765f",
   "metadata": {},
   "outputs": [],
   "source": [
    "train_cats(df_raw)"
   ]
  },
  {
   "cell_type": "code",
   "execution_count": null,
   "id": "79eba11b",
   "metadata": {},
   "outputs": [],
   "source": [
    "df_raw.UsageBand.cat.categories"
   ]
  },
  {
   "cell_type": "code",
   "execution_count": 30,
   "id": "61a36962",
   "metadata": {},
   "outputs": [],
   "source": [
    "df_raw.UsageBand.cat.set_categories(['High', 'Medium', 'Low'], ordered=True, inplace=True)"
   ]
  },
  {
   "cell_type": "code",
   "execution_count": 31,
   "id": "a641587e",
   "metadata": {},
   "outputs": [
    {
     "data": {
      "text/plain": [
       "Backhoe_Mounting            0.803872\n",
       "Blade_Extension             0.937129\n",
       "Blade_Type                  0.800977\n",
       "Blade_Width                 0.937129\n",
       "Coupler                     0.466620\n",
       "Coupler_System              0.891660\n",
       "Differential_Type           0.826959\n",
       "Drive_System                0.739829\n",
       "Enclosure                   0.000810\n",
       "Enclosure_Type              0.937129\n",
       "Engine_Horsepower           0.937129\n",
       "Forks                       0.521154\n",
       "Grouser_Tracks              0.891899\n",
       "Grouser_Type                0.752813\n",
       "Hydraulics                  0.200823\n",
       "Hydraulics_Flow             0.891899\n",
       "MachineHoursCurrentMeter    0.644089\n",
       "MachineID                   0.000000\n",
       "ModelID                     0.000000\n",
       "Pad_Type                    0.802720\n",
       "Pattern_Changer             0.752651\n",
       "ProductGroup                0.000000\n",
       "ProductGroupDesc            0.000000\n",
       "ProductSize                 0.525460\n",
       "Pushblock                   0.937129\n",
       "Ride_Control                0.629527\n",
       "Ripper                      0.740388\n",
       "SalePrice                   0.000000\n",
       "SalesID                     0.000000\n",
       "Scarifier                   0.937102\n",
       "Steering_Controls           0.827064\n",
       "Stick                       0.802720\n",
       "Stick_Length                0.752651\n",
       "Thumb                       0.752476\n",
       "Tip_Control                 0.937129\n",
       "Tire_Size                   0.763869\n",
       "Track_Type                  0.752813\n",
       "Transmission                0.543210\n",
       "Travel_Controls             0.800975\n",
       "Turbocharged                0.802720\n",
       "Undercarriage_Pad_Width     0.751020\n",
       "UsageBand                   0.826391\n",
       "YearMade                    0.000000\n",
       "auctioneerID                0.050199\n",
       "datasource                  0.000000\n",
       "fiBaseModel                 0.000000\n",
       "fiModelDesc                 0.000000\n",
       "fiModelDescriptor           0.820707\n",
       "fiModelSeries               0.858129\n",
       "fiProductClassDesc          0.000000\n",
       "fiSecondaryDesc             0.342016\n",
       "saleDay                     0.000000\n",
       "saleDayofweek               0.000000\n",
       "saleDayofyear               0.000000\n",
       "saleElapsed                 0.000000\n",
       "saleIs_month_end            0.000000\n",
       "saleIs_month_start          0.000000\n",
       "saleIs_quarter_end          0.000000\n",
       "saleIs_quarter_start        0.000000\n",
       "saleIs_year_end             0.000000\n",
       "saleIs_year_start           0.000000\n",
       "saleMonth                   0.000000\n",
       "saleWeek                    0.000000\n",
       "saleYear                    0.000000\n",
       "state                       0.000000\n",
       "dtype: float64"
      ]
     },
     "metadata": {},
     "output_type": "display_data"
    }
   ],
   "source": [
    "display_all(df_raw.isnull().sum().sort_index()/len(df_raw))"
   ]
  },
  {
   "cell_type": "code",
   "execution_count": null,
   "id": "c7428730",
   "metadata": {},
   "outputs": [],
   "source": [
    "os.makedirs('tmp', exist_ok=True)\n",
    "df_raw.to_feather('tmp/bulldozers-raw')"
   ]
  },
  {
   "cell_type": "code",
   "execution_count": null,
   "id": "8df559a5",
   "metadata": {},
   "outputs": [],
   "source": [
    "df_raw = pd.read_feather('tmp/bulldozers-raw')"
   ]
  },
  {
   "cell_type": "code",
   "execution_count": 32,
   "id": "10a16443",
   "metadata": {},
   "outputs": [],
   "source": [
    "df, y, nas = proc_df(df_raw, 'SalePrice')"
   ]
  },
  {
   "cell_type": "code",
   "execution_count": 12,
   "id": "28e88b61",
   "metadata": {},
   "outputs": [
    {
     "data": {
      "text/plain": [
       "Index(['SalesID', 'MachineID', 'ModelID', 'datasource', 'auctioneerID',\n",
       "       'YearMade', 'MachineHoursCurrentMeter', 'UsageBand', 'fiModelDesc',\n",
       "       'fiBaseModel', 'fiSecondaryDesc', 'fiModelSeries', 'fiModelDescriptor',\n",
       "       'ProductSize', 'fiProductClassDesc', 'state', 'ProductGroup',\n",
       "       'ProductGroupDesc', 'Drive_System', 'Enclosure', 'Forks', 'Pad_Type',\n",
       "       'Ride_Control', 'Stick', 'Transmission', 'Turbocharged',\n",
       "       'Blade_Extension', 'Blade_Width', 'Enclosure_Type', 'Engine_Horsepower',\n",
       "       'Hydraulics', 'Pushblock', 'Ripper', 'Scarifier', 'Tip_Control',\n",
       "       'Tire_Size', 'Coupler', 'Coupler_System', 'Grouser_Tracks',\n",
       "       'Hydraulics_Flow', 'Track_Type', 'Undercarriage_Pad_Width',\n",
       "       'Stick_Length', 'Thumb', 'Pattern_Changer', 'Grouser_Type',\n",
       "       'Backhoe_Mounting', 'Blade_Type', 'Travel_Controls',\n",
       "       'Differential_Type', 'Steering_Controls', 'saleYear', 'saleMonth',\n",
       "       'saleWeek', 'saleDay', 'saleDayofweek', 'saleDayofyear',\n",
       "       'saleIs_month_end', 'saleIs_month_start', 'saleIs_quarter_end',\n",
       "       'saleIs_quarter_start', 'saleIs_year_end', 'saleIs_year_start',\n",
       "       'saleElapsed', 'auctioneerID_na', 'MachineHoursCurrentMeter_na'],\n",
       "      dtype='object')"
      ]
     },
     "execution_count": 12,
     "metadata": {},
     "output_type": "execute_result"
    }
   ],
   "source": [
    "df.columns"
   ]
  },
  {
   "cell_type": "code",
   "execution_count": null,
   "id": "4647fce3",
   "metadata": {},
   "outputs": [],
   "source": [
    "display_all(df.head())"
   ]
  },
  {
   "cell_type": "code",
   "execution_count": 33,
   "id": "bf16fac3",
   "metadata": {},
   "outputs": [
    {
     "data": {
      "text/plain": [
       "0.9831080567465541"
      ]
     },
     "execution_count": 33,
     "metadata": {},
     "output_type": "execute_result"
    }
   ],
   "source": [
    "m = RandomForestRegressor(n_jobs=-1)\n",
    "m.fit(df, y)\n",
    "m.score(df,y)"
   ]
  },
  {
   "cell_type": "code",
   "execution_count": 34,
   "id": "ea8ab8a3",
   "metadata": {},
   "outputs": [
    {
     "data": {
      "text/plain": [
       "((389125, 66), (389125,), (12000, 66))"
      ]
     },
     "execution_count": 34,
     "metadata": {},
     "output_type": "execute_result"
    }
   ],
   "source": [
    "def split_vals(a,n): return a[:n].copy(), a[n:].copy()\n",
    "\n",
    "n_valid = 12000  # same as Kaggle's test set size\n",
    "n_trn = len(df)-n_valid\n",
    "raw_train, raw_valid = split_vals(df_raw, n_trn)\n",
    "X_train, X_valid = split_vals(df, n_trn)\n",
    "y_train, y_valid = split_vals(y, n_trn)\n",
    "\n",
    "X_train.shape, y_train.shape, X_valid.shape"
   ]
  },
  {
   "cell_type": "code",
   "execution_count": 35,
   "id": "d07ad2b2",
   "metadata": {},
   "outputs": [],
   "source": [
    "def rmse(x,y): return math.sqrt(((x-y)**2).mean())\n",
    "\n",
    "def print_score(m):\n",
    "    res = [rmse(m.predict(X_train), y_train), rmse(m.predict(X_valid), y_valid),\n",
    "                m.score(X_train, y_train), m.score(X_valid, y_valid)]\n",
    "    if hasattr(m, 'oob_score_'): res.append(m.oob_score_)\n",
    "    print(res)"
   ]
  },
  {
   "cell_type": "code",
   "execution_count": 36,
   "id": "cd4a29cc",
   "metadata": {},
   "outputs": [
    {
     "name": "stdout",
     "output_type": "stream",
     "text": [
      "Wall time: 9.71 s\n",
      "[0.090403295529759, 0.2505037285693126, 0.9829193910124566, 0.8879333569614419]\n"
     ]
    }
   ],
   "source": [
    "m = RandomForestRegressor(n_jobs=-1)\n",
    "%time m.fit(X_train, y_train)\n",
    "print_score(m)"
   ]
  },
  {
   "cell_type": "code",
   "execution_count": 21,
   "id": "5500362d",
   "metadata": {},
   "outputs": [],
   "source": [
    "?proc_df"
   ]
  },
  {
   "cell_type": "code",
   "execution_count": 37,
   "id": "0625426f",
   "metadata": {},
   "outputs": [],
   "source": [
    "df_trn, y_trn, nas = proc_df(df_raw, 'SalePrice', subset=30000, na_dict=nas)\n",
    "X_train, _ = split_vals(df_trn, 20000)\n",
    "y_train, _ = split_vals(y_trn, 20000)"
   ]
  },
  {
   "cell_type": "code",
   "execution_count": 38,
   "id": "79ce54cf",
   "metadata": {},
   "outputs": [
    {
     "name": "stdout",
     "output_type": "stream",
     "text": [
      "Wall time: 375 ms\n",
      "[0.11503478568576937, 0.3540629899063944, 0.9713683953766464, 0.7761232266728596]\n"
     ]
    }
   ],
   "source": [
    "m = RandomForestRegressor(n_jobs=-1)\n",
    "%time m.fit(X_train, y_train)\n",
    "print_score(m)"
   ]
  },
  {
   "cell_type": "code",
   "execution_count": 39,
   "id": "7474bcfb",
   "metadata": {},
   "outputs": [
    {
     "name": "stdout",
     "output_type": "stream",
     "text": [
      "[0.5293014432312495, 0.5801084173010085, 0.393831353538874, 0.39901129749627884]\n"
     ]
    }
   ],
   "source": [
    "m = RandomForestRegressor(n_estimators=1, max_depth=3, bootstrap=False, n_jobs=-1)\n",
    "m.fit(X_train, y_train)\n",
    "print_score(m)"
   ]
  },
  {
   "cell_type": "code",
   "execution_count": 40,
   "id": "0040fb7f",
   "metadata": {},
   "outputs": [],
   "source": [
    "??draw_tree"
   ]
  },
  {
   "cell_type": "code",
   "execution_count": 41,
   "id": "eb395967",
   "metadata": {},
   "outputs": [
    {
     "data": {
      "image/svg+xml": [
       "<?xml version=\"1.0\" encoding=\"UTF-8\" standalone=\"no\"?>\r\n",
       "<!DOCTYPE svg PUBLIC \"-//W3C//DTD SVG 1.1//EN\"\r\n",
       " \"http://www.w3.org/Graphics/SVG/1.1/DTD/svg11.dtd\">\r\n",
       "<!-- Generated by graphviz version 2.50.0 (0)\r\n",
       " -->\r\n",
       "<!-- Title: Tree Pages: 1 -->\r\n",
       "<svg width=\"720pt\" height=\"434pt\"\r\n",
       " viewBox=\"0.00 0.00 720.00 434.49\" xmlns=\"http://www.w3.org/2000/svg\" xmlns:xlink=\"http://www.w3.org/1999/xlink\">\r\n",
       "<g id=\"graph0\" class=\"graph\" transform=\"scale(0.78 0.78) rotate(0) translate(4 554)\">\r\n",
       "<title>Tree</title>\r\n",
       "<polygon fill=\"white\" stroke=\"transparent\" points=\"-4,4 -4,-554 920.67,-554 920.67,4 -4,4\"/>\r\n",
       "<!-- 0 -->\r\n",
       "<g id=\"node1\" class=\"node\">\r\n",
       "<title>0</title>\r\n",
       "<polygon fill=\"#eca571\" stroke=\"black\" points=\"170.67,-336.5 30.67,-336.5 30.67,-268.5 170.67,-268.5 170.67,-336.5\"/>\r\n",
       "<text text-anchor=\"start\" x=\"38.67\" y=\"-321.3\" font-family=\"Times New Roman,serif\" font-size=\"14.00\">Coupler_System ≤ 0.5</text>\r\n",
       "<text text-anchor=\"start\" x=\"65.67\" y=\"-306.3\" font-family=\"Times New Roman,serif\" font-size=\"14.00\">mse = 0.462</text>\r\n",
       "<text text-anchor=\"start\" x=\"53.67\" y=\"-291.3\" font-family=\"Times New Roman,serif\" font-size=\"14.00\">samples = 20000</text>\r\n",
       "<text text-anchor=\"start\" x=\"59.17\" y=\"-276.3\" font-family=\"Times New Roman,serif\" font-size=\"14.00\">value = 10.121</text>\r\n",
       "</g>\r\n",
       "<!-- 1 -->\r\n",
       "<g id=\"node2\" class=\"node\">\r\n",
       "<title>1</title>\r\n",
       "<polygon fill=\"#eb9e66\" stroke=\"black\" points=\"405.67,-372.5 279.67,-372.5 279.67,-304.5 405.67,-304.5 405.67,-372.5\"/>\r\n",
       "<text text-anchor=\"start\" x=\"287.67\" y=\"-357.3\" font-family=\"Times New Roman,serif\" font-size=\"14.00\">YearMade ≤ 1990.5</text>\r\n",
       "<text text-anchor=\"start\" x=\"307.67\" y=\"-342.3\" font-family=\"Times New Roman,serif\" font-size=\"14.00\">mse = 0.405</text>\r\n",
       "<text text-anchor=\"start\" x=\"295.67\" y=\"-327.3\" font-family=\"Times New Roman,serif\" font-size=\"14.00\">samples = 18288</text>\r\n",
       "<text text-anchor=\"start\" x=\"301.17\" y=\"-312.3\" font-family=\"Times New Roman,serif\" font-size=\"14.00\">value = 10.209</text>\r\n",
       "</g>\r\n",
       "<!-- 0&#45;&gt;1 -->\r\n",
       "<g id=\"edge1\" class=\"edge\">\r\n",
       "<title>0&#45;&gt;1</title>\r\n",
       "<path fill=\"none\" stroke=\"black\" d=\"M170.76,-312.86C201.75,-317.51 238.3,-322.99 269.63,-327.69\"/>\r\n",
       "<polygon fill=\"black\" stroke=\"black\" points=\"269.19,-331.17 279.6,-329.19 270.23,-324.25 269.19,-331.17\"/>\r\n",
       "<text text-anchor=\"middle\" x=\"259.5\" y=\"-340.35\" font-family=\"Times New Roman,serif\" font-size=\"14.00\">True</text>\r\n",
       "</g>\r\n",
       "<!-- 8 -->\r\n",
       "<g id=\"node9\" class=\"node\">\r\n",
       "<title>8</title>\r\n",
       "<polygon fill=\"#fbede3\" stroke=\"black\" points=\"405.67,-245.5 279.67,-245.5 279.67,-177.5 405.67,-177.5 405.67,-245.5\"/>\r\n",
       "<text text-anchor=\"start\" x=\"287.67\" y=\"-230.3\" font-family=\"Times New Roman,serif\" font-size=\"14.00\">YearMade ≤ 1998.5</text>\r\n",
       "<text text-anchor=\"start\" x=\"307.67\" y=\"-215.3\" font-family=\"Times New Roman,serif\" font-size=\"14.00\">mse = 0.113</text>\r\n",
       "<text text-anchor=\"start\" x=\"298.67\" y=\"-200.3\" font-family=\"Times New Roman,serif\" font-size=\"14.00\">samples = 1712</text>\r\n",
       "<text text-anchor=\"start\" x=\"304.67\" y=\"-185.3\" font-family=\"Times New Roman,serif\" font-size=\"14.00\">value = 9.185</text>\r\n",
       "</g>\r\n",
       "<!-- 0&#45;&gt;8 -->\r\n",
       "<g id=\"edge8\" class=\"edge\">\r\n",
       "<title>0&#45;&gt;8</title>\r\n",
       "<path fill=\"none\" stroke=\"black\" d=\"M170.76,-276.3C201.89,-264.5 238.62,-250.57 270.03,-238.66\"/>\r\n",
       "<polygon fill=\"black\" stroke=\"black\" points=\"271.49,-241.85 279.6,-235.03 269.01,-235.31 271.49,-241.85\"/>\r\n",
       "<text text-anchor=\"middle\" x=\"256.81\" y=\"-221.07\" font-family=\"Times New Roman,serif\" font-size=\"14.00\">False</text>\r\n",
       "</g>\r\n",
       "<!-- 2 -->\r\n",
       "<g id=\"node3\" class=\"node\">\r\n",
       "<title>2</title>\r\n",
       "<polygon fill=\"#efb082\" stroke=\"black\" points=\"659.17,-486.5 540.17,-486.5 540.17,-418.5 659.17,-418.5 659.17,-486.5\"/>\r\n",
       "<text text-anchor=\"start\" x=\"548.17\" y=\"-471.3\" font-family=\"Times New Roman,serif\" font-size=\"14.00\">ModelID ≤ 4508.0</text>\r\n",
       "<text text-anchor=\"start\" x=\"568.17\" y=\"-456.3\" font-family=\"Times New Roman,serif\" font-size=\"14.00\">mse = 0.37</text>\r\n",
       "<text text-anchor=\"start\" x=\"555.67\" y=\"-441.3\" font-family=\"Times New Roman,serif\" font-size=\"14.00\">samples = 8773</text>\r\n",
       "<text text-anchor=\"start\" x=\"561.67\" y=\"-426.3\" font-family=\"Times New Roman,serif\" font-size=\"14.00\">value = 9.979</text>\r\n",
       "</g>\r\n",
       "<!-- 1&#45;&gt;2 -->\r\n",
       "<g id=\"edge2\" class=\"edge\">\r\n",
       "<title>1&#45;&gt;2</title>\r\n",
       "<path fill=\"none\" stroke=\"black\" d=\"M405.72,-366.24C443.53,-383.14 491.86,-404.75 530.7,-422.11\"/>\r\n",
       "<polygon fill=\"black\" stroke=\"black\" points=\"529.29,-425.32 539.85,-426.2 532.15,-418.93 529.29,-425.32\"/>\r\n",
       "</g>\r\n",
       "<!-- 5 -->\r\n",
       "<g id=\"node6\" class=\"node\">\r\n",
       "<title>5</title>\r\n",
       "<polygon fill=\"#e88d4c\" stroke=\"black\" points=\"677.17,-372.5 522.17,-372.5 522.17,-304.5 677.17,-304.5 677.17,-372.5\"/>\r\n",
       "<text text-anchor=\"start\" x=\"530.17\" y=\"-357.3\" font-family=\"Times New Roman,serif\" font-size=\"14.00\">fiProductClassDesc ≤ 6.5</text>\r\n",
       "<text text-anchor=\"start\" x=\"564.67\" y=\"-342.3\" font-family=\"Times New Roman,serif\" font-size=\"14.00\">mse = 0.344</text>\r\n",
       "<text text-anchor=\"start\" x=\"555.67\" y=\"-327.3\" font-family=\"Times New Roman,serif\" font-size=\"14.00\">samples = 9515</text>\r\n",
       "<text text-anchor=\"start\" x=\"558.17\" y=\"-312.3\" font-family=\"Times New Roman,serif\" font-size=\"14.00\">value = 10.421</text>\r\n",
       "</g>\r\n",
       "<!-- 1&#45;&gt;5 -->\r\n",
       "<g id=\"edge5\" class=\"edge\">\r\n",
       "<title>1&#45;&gt;5</title>\r\n",
       "<path fill=\"none\" stroke=\"black\" d=\"M405.72,-338.5C437.52,-338.5 476.77,-338.5 511.55,-338.5\"/>\r\n",
       "<polygon fill=\"black\" stroke=\"black\" points=\"511.71,-342 521.71,-338.5 511.71,-335 511.71,-342\"/>\r\n",
       "</g>\r\n",
       "<!-- 3 -->\r\n",
       "<g id=\"node4\" class=\"node\">\r\n",
       "<title>3</title>\r\n",
       "<polygon fill=\"#eb9f68\" stroke=\"black\" points=\"894.67,-550 790.67,-550 790.67,-497 894.67,-497 894.67,-550\"/>\r\n",
       "<text text-anchor=\"start\" x=\"811.17\" y=\"-534.8\" font-family=\"Times New Roman,serif\" font-size=\"14.00\">mse = 0.39</text>\r\n",
       "<text text-anchor=\"start\" x=\"798.67\" y=\"-519.8\" font-family=\"Times New Roman,serif\" font-size=\"14.00\">samples = 4531</text>\r\n",
       "<text text-anchor=\"start\" x=\"801.17\" y=\"-504.8\" font-family=\"Times New Roman,serif\" font-size=\"14.00\">value = 10.191</text>\r\n",
       "</g>\r\n",
       "<!-- 2&#45;&gt;3 -->\r\n",
       "<g id=\"edge3\" class=\"edge\">\r\n",
       "<title>2&#45;&gt;3</title>\r\n",
       "<path fill=\"none\" stroke=\"black\" d=\"M659.31,-469.78C696.15,-480.63 743.56,-494.6 780.81,-505.57\"/>\r\n",
       "<polygon fill=\"black\" stroke=\"black\" points=\"779.96,-508.97 790.54,-508.44 781.94,-502.25 779.96,-508.97\"/>\r\n",
       "</g>\r\n",
       "<!-- 4 -->\r\n",
       "<g id=\"node5\" class=\"node\">\r\n",
       "<title>4</title>\r\n",
       "<polygon fill=\"#f2c19e\" stroke=\"black\" points=\"894.67,-479 790.67,-479 790.67,-426 894.67,-426 894.67,-479\"/>\r\n",
       "<text text-anchor=\"start\" x=\"807.67\" y=\"-463.8\" font-family=\"Times New Roman,serif\" font-size=\"14.00\">mse = 0.249</text>\r\n",
       "<text text-anchor=\"start\" x=\"798.67\" y=\"-448.8\" font-family=\"Times New Roman,serif\" font-size=\"14.00\">samples = 4242</text>\r\n",
       "<text text-anchor=\"start\" x=\"804.67\" y=\"-433.8\" font-family=\"Times New Roman,serif\" font-size=\"14.00\">value = 9.752</text>\r\n",
       "</g>\r\n",
       "<!-- 2&#45;&gt;4 -->\r\n",
       "<g id=\"edge4\" class=\"edge\">\r\n",
       "<title>2&#45;&gt;4</title>\r\n",
       "<path fill=\"none\" stroke=\"black\" d=\"M659.31,-452.5C695.99,-452.5 743.16,-452.5 780.34,-452.5\"/>\r\n",
       "<polygon fill=\"black\" stroke=\"black\" points=\"780.54,-456 790.54,-452.5 780.54,-449 780.54,-456\"/>\r\n",
       "</g>\r\n",
       "<!-- 6 -->\r\n",
       "<g id=\"node7\" class=\"node\">\r\n",
       "<title>6</title>\r\n",
       "<polygon fill=\"#eead7e\" stroke=\"black\" points=\"894.67,-408 790.67,-408 790.67,-355 894.67,-355 894.67,-408\"/>\r\n",
       "<text text-anchor=\"start\" x=\"807.67\" y=\"-392.8\" font-family=\"Times New Roman,serif\" font-size=\"14.00\">mse = 0.104</text>\r\n",
       "<text text-anchor=\"start\" x=\"798.67\" y=\"-377.8\" font-family=\"Times New Roman,serif\" font-size=\"14.00\">samples = 2684</text>\r\n",
       "<text text-anchor=\"start\" x=\"801.17\" y=\"-362.8\" font-family=\"Times New Roman,serif\" font-size=\"14.00\">value = 10.014</text>\r\n",
       "</g>\r\n",
       "<!-- 5&#45;&gt;6 -->\r\n",
       "<g id=\"edge6\" class=\"edge\">\r\n",
       "<title>5&#45;&gt;6</title>\r\n",
       "<path fill=\"none\" stroke=\"black\" d=\"M677.25,-352.16C710.58,-358.11 749.11,-364.99 780.48,-370.58\"/>\r\n",
       "<polygon fill=\"black\" stroke=\"black\" points=\"779.94,-374.04 790.4,-372.35 781.17,-367.15 779.94,-374.04\"/>\r\n",
       "</g>\r\n",
       "<!-- 7 -->\r\n",
       "<g id=\"node8\" class=\"node\">\r\n",
       "<title>7</title>\r\n",
       "<polygon fill=\"#e58139\" stroke=\"black\" points=\"894.67,-337 790.67,-337 790.67,-284 894.67,-284 894.67,-337\"/>\r\n",
       "<text text-anchor=\"start\" x=\"807.67\" y=\"-321.8\" font-family=\"Times New Roman,serif\" font-size=\"14.00\">mse = 0.348</text>\r\n",
       "<text text-anchor=\"start\" x=\"798.67\" y=\"-306.8\" font-family=\"Times New Roman,serif\" font-size=\"14.00\">samples = 6831</text>\r\n",
       "<text text-anchor=\"start\" x=\"801.17\" y=\"-291.8\" font-family=\"Times New Roman,serif\" font-size=\"14.00\">value = 10.581</text>\r\n",
       "</g>\r\n",
       "<!-- 5&#45;&gt;7 -->\r\n",
       "<g id=\"edge7\" class=\"edge\">\r\n",
       "<title>5&#45;&gt;7</title>\r\n",
       "<path fill=\"none\" stroke=\"black\" d=\"M677.25,-329.6C710.44,-325.75 748.77,-321.29 780.07,-317.66\"/>\r\n",
       "<polygon fill=\"black\" stroke=\"black\" points=\"780.87,-321.09 790.4,-316.46 780.07,-314.13 780.87,-321.09\"/>\r\n",
       "</g>\r\n",
       "<!-- 9 -->\r\n",
       "<g id=\"node10\" class=\"node\">\r\n",
       "<title>9</title>\r\n",
       "<polygon fill=\"#fefaf7\" stroke=\"black\" points=\"680.67,-245.5 518.67,-245.5 518.67,-177.5 680.67,-177.5 680.67,-245.5\"/>\r\n",
       "<text text-anchor=\"start\" x=\"526.67\" y=\"-230.3\" font-family=\"Times New Roman,serif\" font-size=\"14.00\">fiProductClassDesc ≤ 39.5</text>\r\n",
       "<text text-anchor=\"start\" x=\"564.67\" y=\"-215.3\" font-family=\"Times New Roman,serif\" font-size=\"14.00\">mse = 0.081</text>\r\n",
       "<text text-anchor=\"start\" x=\"559.17\" y=\"-200.3\" font-family=\"Times New Roman,serif\" font-size=\"14.00\">samples = 927</text>\r\n",
       "<text text-anchor=\"start\" x=\"564.67\" y=\"-185.3\" font-family=\"Times New Roman,serif\" font-size=\"14.00\">value = 9.02</text>\r\n",
       "</g>\r\n",
       "<!-- 8&#45;&gt;9 -->\r\n",
       "<g id=\"edge9\" class=\"edge\">\r\n",
       "<title>8&#45;&gt;9</title>\r\n",
       "<path fill=\"none\" stroke=\"black\" d=\"M405.72,-211.5C436.45,-211.5 474.14,-211.5 508.02,-211.5\"/>\r\n",
       "<polygon fill=\"black\" stroke=\"black\" points=\"508.41,-215 518.41,-211.5 508.41,-208 508.41,-215\"/>\r\n",
       "</g>\r\n",
       "<!-- 12 -->\r\n",
       "<g id=\"node13\" class=\"node\">\r\n",
       "<title>12</title>\r\n",
       "<polygon fill=\"#f8decb\" stroke=\"black\" points=\"659.17,-131.5 540.17,-131.5 540.17,-63.5 659.17,-63.5 659.17,-131.5\"/>\r\n",
       "<text text-anchor=\"start\" x=\"548.17\" y=\"-116.3\" font-family=\"Times New Roman,serif\" font-size=\"14.00\">ModelID ≤ 7470.5</text>\r\n",
       "<text text-anchor=\"start\" x=\"564.67\" y=\"-101.3\" font-family=\"Times New Roman,serif\" font-size=\"14.00\">mse = 0.082</text>\r\n",
       "<text text-anchor=\"start\" x=\"559.17\" y=\"-86.3\" font-family=\"Times New Roman,serif\" font-size=\"14.00\">samples = 785</text>\r\n",
       "<text text-anchor=\"start\" x=\"561.67\" y=\"-71.3\" font-family=\"Times New Roman,serif\" font-size=\"14.00\">value = 9.379</text>\r\n",
       "</g>\r\n",
       "<!-- 8&#45;&gt;12 -->\r\n",
       "<g id=\"edge12\" class=\"edge\">\r\n",
       "<title>8&#45;&gt;12</title>\r\n",
       "<path fill=\"none\" stroke=\"black\" d=\"M405.72,-183.76C443.53,-166.86 491.86,-145.25 530.7,-127.89\"/>\r\n",
       "<polygon fill=\"black\" stroke=\"black\" points=\"532.15,-131.07 539.85,-123.8 529.29,-124.68 532.15,-131.07\"/>\r\n",
       "</g>\r\n",
       "<!-- 10 -->\r\n",
       "<g id=\"node11\" class=\"node\">\r\n",
       "<title>10</title>\r\n",
       "<polygon fill=\"#ffffff\" stroke=\"black\" points=\"891.17,-266 794.17,-266 794.17,-213 891.17,-213 891.17,-266\"/>\r\n",
       "<text text-anchor=\"start\" x=\"807.67\" y=\"-250.8\" font-family=\"Times New Roman,serif\" font-size=\"14.00\">mse = 0.057</text>\r\n",
       "<text text-anchor=\"start\" x=\"802.17\" y=\"-235.8\" font-family=\"Times New Roman,serif\" font-size=\"14.00\">samples = 508</text>\r\n",
       "<text text-anchor=\"start\" x=\"804.67\" y=\"-220.8\" font-family=\"Times New Roman,serif\" font-size=\"14.00\">value = 8.954</text>\r\n",
       "</g>\r\n",
       "<!-- 9&#45;&gt;10 -->\r\n",
       "<g id=\"edge10\" class=\"edge\">\r\n",
       "<title>9&#45;&gt;10</title>\r\n",
       "<path fill=\"none\" stroke=\"black\" d=\"M680.92,-220.82C714.62,-224.74 753.08,-229.21 783.92,-232.79\"/>\r\n",
       "<polygon fill=\"black\" stroke=\"black\" points=\"783.74,-236.29 794.08,-233.97 784.55,-229.34 783.74,-236.29\"/>\r\n",
       "</g>\r\n",
       "<!-- 11 -->\r\n",
       "<g id=\"node12\" class=\"node\">\r\n",
       "<title>11</title>\r\n",
       "<polygon fill=\"#fdf4ed\" stroke=\"black\" points=\"891.17,-195 794.17,-195 794.17,-142 891.17,-142 891.17,-195\"/>\r\n",
       "<text text-anchor=\"start\" x=\"807.67\" y=\"-179.8\" font-family=\"Times New Roman,serif\" font-size=\"14.00\">mse = 0.099</text>\r\n",
       "<text text-anchor=\"start\" x=\"802.17\" y=\"-164.8\" font-family=\"Times New Roman,serif\" font-size=\"14.00\">samples = 419</text>\r\n",
       "<text text-anchor=\"start\" x=\"804.67\" y=\"-149.8\" font-family=\"Times New Roman,serif\" font-size=\"14.00\">value = 9.101</text>\r\n",
       "</g>\r\n",
       "<!-- 9&#45;&gt;11 -->\r\n",
       "<g id=\"edge11\" class=\"edge\">\r\n",
       "<title>9&#45;&gt;11</title>\r\n",
       "<path fill=\"none\" stroke=\"black\" d=\"M680.92,-197.18C714.62,-191.17 753.08,-184.31 783.92,-178.8\"/>\r\n",
       "<polygon fill=\"black\" stroke=\"black\" points=\"784.85,-182.19 794.08,-176.99 783.62,-175.3 784.85,-182.19\"/>\r\n",
       "</g>\r\n",
       "<!-- 13 -->\r\n",
       "<g id=\"node14\" class=\"node\">\r\n",
       "<title>13</title>\r\n",
       "<polygon fill=\"#f7d6bf\" stroke=\"black\" points=\"891.17,-124 794.17,-124 794.17,-71 891.17,-71 891.17,-124\"/>\r\n",
       "<text text-anchor=\"start\" x=\"807.67\" y=\"-108.8\" font-family=\"Times New Roman,serif\" font-size=\"14.00\">mse = 0.067</text>\r\n",
       "<text text-anchor=\"start\" x=\"802.17\" y=\"-93.8\" font-family=\"Times New Roman,serif\" font-size=\"14.00\">samples = 384</text>\r\n",
       "<text text-anchor=\"start\" x=\"807.67\" y=\"-78.8\" font-family=\"Times New Roman,serif\" font-size=\"14.00\">value = 9.48</text>\r\n",
       "</g>\r\n",
       "<!-- 12&#45;&gt;13 -->\r\n",
       "<g id=\"edge13\" class=\"edge\">\r\n",
       "<title>12&#45;&gt;13</title>\r\n",
       "<path fill=\"none\" stroke=\"black\" d=\"M659.31,-97.5C697.14,-97.5 746.12,-97.5 783.79,-97.5\"/>\r\n",
       "<polygon fill=\"black\" stroke=\"black\" points=\"784.1,-101 794.1,-97.5 784.1,-94 784.1,-101\"/>\r\n",
       "</g>\r\n",
       "<!-- 14 -->\r\n",
       "<g id=\"node15\" class=\"node\">\r\n",
       "<title>14</title>\r\n",
       "<polygon fill=\"#fae6d7\" stroke=\"black\" points=\"891.17,-53 794.17,-53 794.17,0 891.17,0 891.17,-53\"/>\r\n",
       "<text text-anchor=\"start\" x=\"807.67\" y=\"-37.8\" font-family=\"Times New Roman,serif\" font-size=\"14.00\">mse = 0.076</text>\r\n",
       "<text text-anchor=\"start\" x=\"802.17\" y=\"-22.8\" font-family=\"Times New Roman,serif\" font-size=\"14.00\">samples = 401</text>\r\n",
       "<text text-anchor=\"start\" x=\"804.67\" y=\"-7.8\" font-family=\"Times New Roman,serif\" font-size=\"14.00\">value = 9.283</text>\r\n",
       "</g>\r\n",
       "<!-- 12&#45;&gt;14 -->\r\n",
       "<g id=\"edge14\" class=\"edge\">\r\n",
       "<title>12&#45;&gt;14</title>\r\n",
       "<path fill=\"none\" stroke=\"black\" d=\"M659.31,-80.22C697.3,-69.03 746.54,-54.53 784.27,-43.41\"/>\r\n",
       "<polygon fill=\"black\" stroke=\"black\" points=\"785.49,-46.7 794.1,-40.51 783.52,-39.98 785.49,-46.7\"/>\r\n",
       "</g>\r\n",
       "</g>\r\n",
       "</svg>\r\n"
      ],
      "text/plain": [
       "<graphviz.files.Source at 0x1a92d70b208>"
      ]
     },
     "metadata": {},
     "output_type": "display_data"
    }
   ],
   "source": [
    "draw_tree(m.estimators_[0], df_trn, precision=3)"
   ]
  },
  {
   "cell_type": "code",
   "execution_count": null,
   "id": "2459e4c9",
   "metadata": {},
   "outputs": [],
   "source": []
  }
 ],
 "metadata": {
  "kernelspec": {
   "display_name": "Python 3",
   "language": "python",
   "name": "python3"
  },
  "language_info": {
   "codemirror_mode": {
    "name": "ipython",
    "version": 3
   },
   "file_extension": ".py",
   "mimetype": "text/x-python",
   "name": "python",
   "nbconvert_exporter": "python",
   "pygments_lexer": "ipython3",
   "version": "3.6.13"
  }
 },
 "nbformat": 4,
 "nbformat_minor": 5
}
